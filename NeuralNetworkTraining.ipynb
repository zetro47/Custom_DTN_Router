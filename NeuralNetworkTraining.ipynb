{
  "nbformat": 4,
  "nbformat_minor": 0,
  "metadata": {
    "colab": {
      "provenance": []
    },
    "kernelspec": {
      "name": "python3",
      "display_name": "Python 3"
    },
    "language_info": {
      "name": "python"
    }
  },
  "cells": [
    {
      "cell_type": "code",
      "source": [
        "import pandas as pd\n",
        "import math\n",
        "\n",
        "df = pd.read_csv('/content/ProphetLargeBufferDMR.txt', sep=' ', header = None)\n",
        "df = df.loc[1:,[0, 6,7,10]]\n",
        "df = df.rename(columns = {0: 'Time', 6: 'Source', 7: 'Dest', 10: 'Path'})\n",
        "#filtered_df.to_csv('filtered_dtn_report_data.csv', index=False)\n",
        "df"
      ],
      "metadata": {
        "id": "sY_w9Vzz1AOl"
      },
      "execution_count": null,
      "outputs": []
    },
    {
      "cell_type": "code",
      "source": [
        "df_n = pd.DataFrame({'epoch': [], 'source': [], 'dest':[], 'current':[], 'next_hop': []})\n",
        "\n",
        "for index, row in df.iterrows():\n",
        "    path_nodes = row['Path'].split(\"->\")\n",
        "    for i_p in range(0,len(path_nodes)-1):\n",
        "      df_n = df_n.append({'epoch': float(row['Time']), 'source': int(row['Source'][1:]), 'dest': int(row['Dest'][1:]), \\\n",
        "                          'current' : int(path_nodes[i_p][1:]), 'next_hop': int(path_nodes[i_p + 1][1:])}, ignore_index = True)\n",
        "      #df.loc[index,p] = 1\n",
        "\n",
        "#del df['Path']\n",
        "df_n['epoch'] = df_n['epoch'] / 60000\n",
        "df_n['epoch'] = df_n['epoch'].apply(lambda x:  math.floor(x))\n",
        "df_n.to_csv('training_data_router_nn.csv')\n"
      ],
      "metadata": {
        "id": "BMZeYFBc_CwY"
      },
      "execution_count": null,
      "outputs": []
    },
    {
      "cell_type": "code",
      "source": [
        "df_n"
      ],
      "metadata": {
        "id": "bMLmI1LOTzw6"
      },
      "execution_count": null,
      "outputs": []
    },
    {
      "cell_type": "code",
      "source": [
        "from sklearn.preprocessing import LabelEncoder\n",
        "from torch.utils.data import Dataset, DataLoader\n",
        "import torch\n",
        "import torch.nn as nn\n",
        "import torch.nn.functional as F\n",
        "import torch.optim as optim\n",
        "import pandas as pd\n",
        "from sklearn.metrics import f1_score\n",
        "import math\n",
        "\n",
        "\n",
        "data = pd.read_csv('/content/training_data_router_nn.csv')\n",
        "label_encoder_source = LabelEncoder()\n",
        "label_encoder_dest = LabelEncoder()\n",
        "label_encoder_current = LabelEncoder()\n",
        "label_encoder_next = LabelEncoder()\n",
        "label_encoder_epoch = LabelEncoder()\n",
        "\n",
        "#data['source'] = label_encoder_source.fit_transform(data['source'])\n",
        "#data['dest'] = label_encoder_dest.fit_transform(data['dest'])\n",
        "#data['current'] = label_encoder_current.fit_transform(data['current'])\n",
        "#data['next_hop'] = label_encoder_next.fit_transform(data['next_hop'])\n",
        "#data['epoch'] = label_encoder_epoch.fit_transform(data['epoch'])\n",
        "\n",
        "X = data[['epoch', 'source', 'dest', 'current']].values\n",
        "Y = data[['next_hop']].values\n",
        "\n",
        "X_tensor = torch.tensor(X, dtype=torch.float32)\n",
        "Y_tensor = torch.tensor(Y, dtype=torch.float32)\n",
        "\n",
        "class ReportDataset(Dataset):\n",
        "    def __init__(self, X, Y):\n",
        "        self.X = X\n",
        "        self.Y = Y\n",
        "\n",
        "    def __len__(self):\n",
        "        return len(self.X)\n",
        "\n",
        "    def __getitem__(self, idx):\n",
        "        return self.X[idx], self.Y[idx]\n",
        "\n",
        "dataset = ReportDataset(X_tensor, Y_tensor)\n",
        "dataloader = DataLoader(dataset, batch_size=1094, shuffle=False)\n",
        "\n",
        "class ACNet(nn.Module):\n",
        "    def __init__(self):\n",
        "        super(ACNet, self).__init__()\n",
        "        self.fc1 = nn.Linear(4, 64)\n",
        "        self.fc2 = nn.Linear(64, 512)\n",
        "        self.fc3 = nn.Linear(512, 128)\n",
        "        self.fc4 = nn.Linear(4096, 256)\n",
        "        self.fc5 = nn.Linear(128, 6)\n",
        "        self.fc6 = nn.Linear(6, 1)\n",
        "\n",
        "    def forward(self, x):\n",
        "        x = F.relu(self.fc1(x))\n",
        "        x = F.relu(self.fc2(x))\n",
        "        x = F.relu(self.fc3(x))\n",
        "        #x = F.relu(self.fc4(x))\n",
        "        x = F.relu(self.fc5(x))\n",
        "        #x = F.relu(self.fc6(x))\n",
        "        x = self.fc6(x)\n",
        "        return x\n",
        "\n",
        "# NN, Loss Function, and Optimizer\n",
        "net = ACNet()\n",
        "criterion = nn.MSELoss()\n",
        "optimizer = optim.Adam(net.parameters(), lr=0.01)\n",
        "\n",
        "# Training Loop\n",
        "num_epochs = 90000\n",
        "net.train()\n",
        "losses = []\n",
        "for epoch in range(num_epochs):\n",
        "    running_loss = 0.0\n",
        "    for i, (inputs, labels) in enumerate(dataloader):\n",
        "        inputs, labels = inputs.float(), labels.float()\n",
        "        # Zero the parameter gradients\n",
        "        optimizer.zero_grad()\n",
        "\n",
        "        # Forward pass\n",
        "        y_pred = net(inputs)\n",
        "\n",
        "        # Compute loss\n",
        "        y = (labels.long()).squeeze().view(-1, 1)\n",
        "        loss = criterion(y_pred.float(), y.float())\n",
        "        print(float(loss.detach()))\n",
        "        losses.append(float(loss.detach()))\n",
        "        if(float(loss.detach()) < 150):\n",
        "          break\n",
        "\n",
        "        #print(num_matches)\n",
        "        # Backward pass and optimize\n",
        "        loss.backward()\n",
        "        optimizer.step()\n",
        "\n",
        "print('Finished Training')\n"
      ],
      "metadata": {
        "id": "OIS1rPMOBPKc"
      },
      "execution_count": null,
      "outputs": []
    },
    {
      "cell_type": "code",
      "source": [
        "print(y)\n",
        "print(y_pred)"
      ],
      "metadata": {
        "colab": {
          "base_uri": "https://localhost:8080/"
        },
        "id": "H3aYYhMl7UKi",
        "outputId": "3c778fbb-f7aa-43ff-c9e4-ef5fa5187ffb"
      },
      "execution_count": 14,
      "outputs": [
        {
          "output_type": "stream",
          "name": "stdout",
          "text": [
            "tensor([[ 98],\n",
            "        [ 13],\n",
            "        [  0],\n",
            "        ...,\n",
            "        [126],\n",
            "        [114],\n",
            "        [150]])\n",
            "tensor([[103.3182],\n",
            "        [ 13.2705],\n",
            "        [  0.2741],\n",
            "        ...,\n",
            "        [128.0601],\n",
            "        [115.9292],\n",
            "        [151.7544]], grad_fn=<AddmmBackward0>)\n"
          ]
        }
      ]
    },
    {
      "cell_type": "code",
      "source": [
        "import matplotlib.pyplot as plt\n",
        "plt.plot(losses)"
      ],
      "metadata": {
        "id": "f66q5WVQBc2m",
        "outputId": "b5a70258-321f-499a-be2d-4a03034a3f7d",
        "colab": {
          "base_uri": "https://localhost:8080/",
          "height": 448
        }
      },
      "execution_count": 15,
      "outputs": [
        {
          "output_type": "execute_result",
          "data": {
            "text/plain": [
              "[<matplotlib.lines.Line2D at 0x7e3e201dac80>]"
            ]
          },
          "metadata": {},
          "execution_count": 15
        },
        {
          "output_type": "display_data",
          "data": {
            "text/plain": [
              "<Figure size 640x480 with 1 Axes>"
            ],
            "image/png": "[encoded data removed]"
          },
          "metadata": {}
        }
      ]
    },
    {
      "cell_type": "code",
      "source": [
        "m = torch.jit.script(net)\n",
        "torch.jit.save(m, 'scriptmodule3.pt')\n"
      ],
      "metadata": {
        "id": "HASqbt2kCWMQ"
      },
      "execution_count": 16,
      "outputs": []
    },
    {
      "cell_type": "code",
      "source": [
        "model = torch.jit.load('/content/scriptmodule2.pt')\n",
        "\n",
        "# Prepare the input data\n",
        "input_data = [3, 101, 150, 101]\n",
        "input_tensor = torch.tensor(input_data, dtype=torch.float32).view(1, -1)\n",
        "\n",
        "# Run the model\n",
        "with torch.no_grad():\n",
        "    output = model(input_tensor)\n",
        "\n",
        "# Output\n",
        "output"
      ],
      "metadata": {
        "id": "9-puPAkWqFl4",
        "outputId": "2a8618da-d093-4163-9b18-b2d78be16a24",
        "colab": {
          "base_uri": "https://localhost:8080/"
        }
      },
      "execution_count": 12,
      "outputs": [
        {
          "output_type": "execute_result",
          "data": {
            "text/plain": [
              "tensor([[92.0010]])"
            ]
          },
          "metadata": {},
          "execution_count": 12
        }
      ]
    }
  ]
}